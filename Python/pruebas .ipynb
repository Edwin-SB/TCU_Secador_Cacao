{
 "cells": [
  {
   "cell_type": "code",
   "execution_count": 41,
   "metadata": {
    "scrolled": true
   },
   "outputs": [
    {
     "name": "stdout",
     "output_type": "stream",
     "text": [
      "Inserte ID a buscar : 6453\n",
      "ID buscado:  6453 Datos Productor:  0    Edwin Somarribas Barahona\n",
      "dtype: object\n",
      "Lote: 1 Cantidad (Kg): 5 Tipo: 0    criollo \n",
      "Name: Tipo, dtype: object\n"
     ]
    }
   ],
   "source": [
    "# Se Importa las respectivas librerias a utilizar a lo largo del programa\n",
    "import numpy as np \n",
    "from scipy import stats \n",
    "import matplotlib.pyplot as plt\n",
    "import pandas as pd\n",
    "from fitter import Fitter\n",
    "import math\n",
    "from scipy.stats import rayleigh\n",
    "\n",
    "# Se crea la variable excel, que es donde alamacena lo leido por parte pandas del CSV\n",
    "excel = pd.read_csv('Datos_Productor.csv')\n",
    "# se crea la variable df(dataFrame) donde se alamcena los datos obtenidos por medio de la libreria pandas\n",
    "df=pd.DataFrame(excel)\n",
    "\n",
    "opc = int(input(\"Inserte ID a buscar : \"))\n",
    "dato1=df[df['Id']==opc]['Nombre']\n",
    "dato2=df[df['Id']==opc]['Primer apellido']\n",
    "dato3=df[df['Id']==opc]['Segundo apellido']\n",
    "dato4=int(df[df['Id']==opc]['Lote'])\n",
    "dato5=int(df[df['Id']==opc]['Cantidad (Kg)'])\n",
    "dato6=df[df['Id']==opc]['Tipo']\n",
    "\n",
    "\n",
    "totalDatos1 = dato1 + \" \" + dato2 + \" \" + dato3\n",
    "totalDatos2 = dato4\n",
    "print('ID buscado: ',opc ,'Datos Productor: ',totalDatos1)\n",
    "print('Lote:',dato4,'Cantidad (Kg):',dato5,'Tipo:',dato6)\n"
   ]
  },
  {
   "cell_type": "code",
   "execution_count": null,
   "metadata": {},
   "outputs": [],
   "source": []
  }
 ],
 "metadata": {
  "kernelspec": {
   "display_name": "Python 3",
   "language": "python",
   "name": "python3"
  },
  "language_info": {
   "codemirror_mode": {
    "name": "ipython",
    "version": 3
   },
   "file_extension": ".py",
   "mimetype": "text/x-python",
   "name": "python",
   "nbconvert_exporter": "python",
   "pygments_lexer": "ipython3",
   "version": "3.7.6"
  }
 },
 "nbformat": 4,
 "nbformat_minor": 4
}
